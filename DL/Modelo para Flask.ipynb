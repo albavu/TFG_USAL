{
 "cells": [
  {
   "cell_type": "code",
   "execution_count": 23,
   "id": "441fe463",
   "metadata": {},
   "outputs": [
    {
     "name": "stdout",
     "output_type": "stream",
     "text": [
      "344/344 - 1s - loss: 0.3811 - accuracy: 0.8285\n",
      "Modelo 2, accuracy: 82.85%\n"
     ]
    }
   ],
   "source": [
    "import pickle\n",
    "from keras.models import load_model\n",
    "filename = '/Users/alba_vu/Desktop/curso20-21/TFG/Archivos_TFG_final/resultados_DL/Conv1D_modelo2/modeloDL_OHE_final_dinuc.h5'\n",
    "loaded_model = load_model(filename)\n",
    "loss, acc = loaded_model.evaluate(X_test, y_test, verbose=2)\n",
    "print(\"Modelo 2, accuracy: {:5.2f}%\".format(100 * acc))"
   ]
  },
  {
   "cell_type": "code",
   "execution_count": 24,
   "id": "5744fdd9",
   "metadata": {},
   "outputs": [
    {
     "data": {
      "text/plain": [
       "(10999, 149, 17)"
      ]
     },
     "execution_count": 24,
     "metadata": {},
     "output_type": "execute_result"
    }
   ],
   "source": [
    "X_test.shape"
   ]
  },
  {
   "cell_type": "code",
   "execution_count": 33,
   "id": "1d38d013",
   "metadata": {},
   "outputs": [],
   "source": [
    "import numpy as np\n",
    "resul = np.reshape(resul, (1, 149,17))"
   ]
  },
  {
   "cell_type": "code",
   "execution_count": 34,
   "id": "a6c86fce",
   "metadata": {},
   "outputs": [
    {
     "name": "stdout",
     "output_type": "stream",
     "text": [
      "[[0.67531747 0.3246825 ]]\n"
     ]
    }
   ],
   "source": [
    "print(loaded_model.predict(resul))"
   ]
  },
  {
   "cell_type": "code",
   "execution_count": 1,
   "id": "1de93447",
   "metadata": {},
   "outputs": [],
   "source": [
    "import re\n",
    "import pandas as pd\n",
    "import numpy as np"
   ]
  },
  {
   "cell_type": "code",
   "execution_count": 5,
   "id": "a2673c07",
   "metadata": {},
   "outputs": [],
   "source": [
    "path_datos = '/Users/alba_vu/Desktop/curso20-21/TFG/Archivos_TFG_final/input/'"
   ]
  },
  {
   "cell_type": "code",
   "execution_count": 6,
   "id": "d5b78681",
   "metadata": {},
   "outputs": [],
   "source": [
    "import pickle\n",
    "with open(path_datos+\"dinuc2.pickle\",\"rb\") as f:\n",
    "    data = pickle.load(f)"
   ]
  },
  {
   "cell_type": "code",
   "execution_count": 7,
   "id": "2f9aa234",
   "metadata": {},
   "outputs": [],
   "source": [
    "import numpy as np\n",
    "x = np.array(data)"
   ]
  },
  {
   "cell_type": "code",
   "execution_count": 8,
   "id": "fec3c125",
   "metadata": {},
   "outputs": [],
   "source": [
    "import pandas as pd\n",
    "total = pd.read_csv(path_datos+'dinucTotal2.csv')\n",
    "from sklearn.model_selection import train_test_split\n",
    "y = total['nucleosoma'].astype('float')\n",
    "X = x"
   ]
  },
  {
   "cell_type": "code",
   "execution_count": 9,
   "id": "a22a8089",
   "metadata": {},
   "outputs": [],
   "source": [
    "X_train = X[0:round(.8*len(X))]\n",
    "X_validate = X[round(.8*len(X))+1:round(.9*len(X))]\n",
    "X_test = X[round(.9*len(X))+1:len(X)]\n",
    "y_train = y[0:round(.8*len(y))]\n",
    "y_validate = y[round(.8*len(y))+1:round(.9*len(y))]\n",
    "y_test = y[round(.9*len(y))+1:len(y)]"
   ]
  },
  {
   "cell_type": "code",
   "execution_count": 10,
   "id": "6f0c17cb",
   "metadata": {},
   "outputs": [],
   "source": [
    "import tensorflow as tf\n",
    "y_train = tf.keras.utils.to_categorical(y_train, num_classes=2)\n",
    "y_validate = tf.keras.utils.to_categorical(y_validate, num_classes=2)\n",
    "y_test = tf.keras.utils.to_categorical(y_test, num_classes=2)"
   ]
  },
  {
   "cell_type": "code",
   "execution_count": 18,
   "id": "b1453c0a",
   "metadata": {},
   "outputs": [
    {
     "data": {
      "text/plain": [
       "LabelEncoder()"
      ]
     },
     "execution_count": 18,
     "metadata": {},
     "output_type": "execute_result"
    }
   ],
   "source": [
    "### Cambio de la secuencia de texto a dinucleótidos\n",
    "from sklearn.preprocessing import OneHotEncoder\n",
    "\n",
    "def one_hot_encoder(my_array):\n",
    "    integer_encoded = label_encoder.transform(my_array)\n",
    "    onehot_encoder = OneHotEncoder(sparse=False, dtype=int,categories=[range(18)])\n",
    "    integer_encoded = integer_encoded.reshape(len(integer_encoded), 1)\n",
    "    onehot_encoded = onehot_encoder.fit_transform(integer_encoded)\n",
    "    onehot_encoded = np.delete(onehot_encoded, -1, 1)\n",
    "    return onehot_encoded\n",
    "\n",
    "def getKmers(sequence, size=2):\n",
    "    return [sequence[x:x+size].lower() for x in range(len(sequence) - size + 1)]\n",
    "\n",
    "from sklearn.preprocessing import LabelEncoder\n",
    "label_encoder = LabelEncoder()\n",
    "label_encoder.fit(np.array(['aa','ag','ac','at','tt','ta','tc','tg','gg','gt','ga','gc','cc','ca','cg','ct','nn']))"
   ]
  },
  {
   "cell_type": "code",
   "execution_count": 31,
   "id": "00c46c28",
   "metadata": {},
   "outputs": [],
   "source": [
    "seq1 = 'ATTTAGTCATTTCCACATGTAACAGTAATTTTGCGAATACTAAGGCTAACATGACAATCGTAAGCCAAGAAGACTTCCTAATTTCACTTCAGACGGATGAGCAATTCACAACTAAAAGTTGCCTCAAATCACTACTACCTGTATCACGAT'\n",
    "seq1 = getKmers(seq1)\n",
    "resul = one_hot_encoder(seq1)"
   ]
  },
  {
   "cell_type": "code",
   "execution_count": 32,
   "id": "19a817f7",
   "metadata": {},
   "outputs": [
    {
     "data": {
      "text/plain": [
       "(149, 17)"
      ]
     },
     "execution_count": 32,
     "metadata": {},
     "output_type": "execute_result"
    }
   ],
   "source": [
    "resul.shape"
   ]
  },
  {
   "cell_type": "code",
   "execution_count": null,
   "id": "56e9321f",
   "metadata": {},
   "outputs": [],
   "source": []
  }
 ],
 "metadata": {
  "kernelspec": {
   "display_name": "Python 3",
   "language": "python",
   "name": "python3"
  },
  "language_info": {
   "codemirror_mode": {
    "name": "ipython",
    "version": 3
   },
   "file_extension": ".py",
   "mimetype": "text/x-python",
   "name": "python",
   "nbconvert_exporter": "python",
   "pygments_lexer": "ipython3",
   "version": "3.7.10"
  }
 },
 "nbformat": 4,
 "nbformat_minor": 5
}
