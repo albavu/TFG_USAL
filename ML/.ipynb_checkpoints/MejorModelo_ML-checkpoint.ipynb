{
 "cells": [
  {
   "cell_type": "code",
   "execution_count": 1,
   "id": "27e4458d",
   "metadata": {},
   "outputs": [
    {
     "name": "stdout",
     "output_type": "stream",
     "text": [
      "0    6120\n",
      "1    4880\n",
      "Name: nucleosoma, dtype: int64\n"
     ]
    }
   ],
   "source": [
    "import os\n",
    "os.environ['OPENBLAS_NUM_THREADS'] = '1'\n",
    "import pandas as pd\n",
    "import numpy as np\n",
    "\n",
    "c_in = '~/Desktop/curso20-21/TFG/data/input'\n",
    "c_out = '~/Desktop/curso20-21/TFG/data/output'\n",
    "\n",
    "## Datos (solo ejecutar en caso de que no tengamos ya el archivo con todas las secuencias)\n",
    "# =========================================================\n",
    "dataN = pd.read_csv(c_in+'/dinucTotal2.csv')\n",
    "\n",
    "df2 = pd.DataFrame(dataN['dinuc'].str.split(',').values.tolist())\n",
    "total =  pd.get_dummies(df2)\n",
    "total['nucleosoma'] = dataN['nucleosoma']\n",
    "\n",
    "#np.split funciona cogiendo el %que quitamos del total y luego de lo que queda el otro %\n",
    "#En nuestro caso va a ser 80% train, 10% validate y 10% test\n",
    "train, validate, test = np.split(total.sample(frac=1, random_state=42), \n",
    "                       [int(.8*len(total)), int(.9*len(total))])\n",
    "\n",
    "X_train = train.iloc[:,0:2747]\n",
    "y_train = train['nucleosoma']\n",
    "X_validate = validate.iloc[:,0:2747]\n",
    "y_validate = validate['nucleosoma']\n",
    "X_test = test.iloc[:,0:2747]\n",
    "y_test = test['nucleosoma']\n",
    "\n",
    "print(y_test.value_counts())"
   ]
  },
  {
   "cell_type": "code",
   "execution_count": 2,
   "id": "064bb8d6",
   "metadata": {},
   "outputs": [
    {
     "name": "stdout",
     "output_type": "stream",
     "text": [
      "\n",
      "\t Matriz de confusion \n",
      "\n",
      "[[4883 1237]\n",
      " [1331 3549]]\n",
      "\n",
      " \t Classification report \n",
      "\n",
      "              precision    recall  f1-score   support\n",
      "\n",
      "           0       0.79      0.80      0.79      6120\n",
      "           1       0.74      0.73      0.73      4880\n",
      "\n",
      "    accuracy                           0.77     11000\n",
      "   macro avg       0.76      0.76      0.76     11000\n",
      "weighted avg       0.77      0.77      0.77     11000\n",
      "\n"
     ]
    }
   ],
   "source": [
    "#####################################################\n",
    "#########   MEJOR MODELO MACHINE LEARNING    ########\n",
    "#####################################################\n",
    "\n",
    "from sklearn.model_selection import GridSearchCV\n",
    "from sklearn.linear_model import LogisticRegression\n",
    "from sklearn.metrics import confusion_matrix, classification_report\n",
    "from sklearn.metrics import plot_confusion_matrix\n",
    "import matplotlib\n",
    "#matplotlib.use('Agg') # Must be before importing matplotlib.pyplot or pylab!\n",
    "import matplotlib.pyplot as plt\n",
    "\n",
    "cf1 = LogisticRegression(random_state=42, penalty='l2', C=1.0, class_weight=None, solver='lbfgs')\n",
    "cf1.fit(X_train, y_train)\n",
    "\n",
    "y_pred_1 = cf1.predict(X_test)\n",
    "\n",
    "###### Matriz de confusion #######\n",
    "print('\\n\\t Matriz de confusion \\n')\n",
    "print(confusion_matrix(y_test, y_pred_1))\n",
    "\n",
    "####### Classification Report ########\n",
    "print('\\n \\t Classification report \\n')\n",
    "print(classification_report(y_test, y_pred_1))"
   ]
  },
  {
   "cell_type": "code",
   "execution_count": 3,
   "id": "cdf7be6e",
   "metadata": {},
   "outputs": [],
   "source": [
    "########### ROC CURVE ############\n",
    "y_pred_prob = cf1.predict_proba(X_test)[:,1]"
   ]
  },
  {
   "cell_type": "code",
   "execution_count": 4,
   "id": "45d5a9b5",
   "metadata": {},
   "outputs": [
    {
     "name": "stdout",
     "output_type": "stream",
     "text": [
      "Logistic: ROC AUC=0.842\n",
      "No Skill: ROC AUC=0.500\n"
     ]
    },
    {
     "data": {
      "image/png": "[encoded data removed]",
      "text/plain": [
       "<Figure size 432x288 with 1 Axes>"
      ]
     },
     "metadata": {
      "needs_background": "light"
     },
     "output_type": "display_data"
    }
   ],
   "source": [
    "from sklearn.metrics import roc_curve\n",
    "from sklearn.metrics import roc_auc_score\n",
    "from matplotlib import pyplot\n",
    "\n",
    "#fpr, tpr, thresholds = roc_curve(y_test,y_pred_prob)\n",
    "lr_auc = roc_auc_score(y_test, y_pred_prob)\n",
    "print('Logistic: ROC AUC=%.3f' % (lr_auc))\n",
    "\n",
    "### Generate a no skill prediction\n",
    "ns_probs = [0 for _ in range(len(y_test))]\n",
    "ns_auc = roc_auc_score(y_test, ns_probs)\n",
    "print('No Skill: ROC AUC=%.3f' % (ns_auc))\n",
    "\n",
    "ns_fpr, ns_tpr, _ = roc_curve(y_test, ns_probs)\n",
    "lr_fpr, lr_tpr, _ = roc_curve(y_test, y_pred_prob)\n",
    "\n",
    "# plot the roc curve for the model\n",
    "pyplot.plot(ns_fpr, ns_tpr, linestyle='--', label='No Skill')\n",
    "pyplot.plot(lr_fpr, lr_tpr, marker='.', label='Logistic')\n",
    "# axis labels\n",
    "pyplot.xlabel('False Positive Rate')\n",
    "pyplot.ylabel('True Positive Rate')\n",
    "# show the legend\n",
    "pyplot.legend()\n",
    "# show the plot\n",
    "pyplot.show()\n"
   ]
  },
  {
   "cell_type": "code",
   "execution_count": null,
   "id": "bc5ff0aa",
   "metadata": {},
   "outputs": [],
   "source": []
  }
 ],
 "metadata": {
  "kernelspec": {
   "display_name": "Python 3",
   "language": "python",
   "name": "python3"
  },
  "language_info": {
   "codemirror_mode": {
    "name": "ipython",
    "version": 3
   },
   "file_extension": ".py",
   "mimetype": "text/x-python",
   "name": "python",
   "nbconvert_exporter": "python",
   "pygments_lexer": "ipython3",
   "version": "3.7.10"
  }
 },
 "nbformat": 4,
 "nbformat_minor": 5
}
